{
 "cells": [
  {
   "cell_type": "code",
   "execution_count": 0,
   "metadata": {
    "colab": {
     "base_uri": "https://localhost:8080/",
     "height": 130
    },
    "colab_type": "code",
    "executionInfo": {
     "elapsed": 22996,
     "status": "ok",
     "timestamp": 1583727462342,
     "user": {
      "displayName": "Anunay Vivek Sanganal",
      "photoUrl": "",
      "userId": "10367548046959114765"
     },
     "user_tz": 240
    },
    "id": "1YLRO_gO6hgh",
    "outputId": "19ade4c2-f506-44b2-a9cc-eacb579756e9"
   },
   "outputs": [
    {
     "name": "stdout",
     "output_type": "stream",
     "text": [
      "Go to this URL in a browser: https://accounts.google.com/o/oauth2/auth?client_id=947318989803-6bn6qk8qdgf4n4g3pfee6491hc0brc4i.apps.googleusercontent.com&redirect_uri=urn%3aietf%3awg%3aoauth%3a2.0%3aoob&response_type=code&scope=email%20https%3a%2f%2fwww.googleapis.com%2fauth%2fdocs.test%20https%3a%2f%2fwww.googleapis.com%2fauth%2fdrive%20https%3a%2f%2fwww.googleapis.com%2fauth%2fdrive.photos.readonly%20https%3a%2f%2fwww.googleapis.com%2fauth%2fpeopleapi.readonly\n",
      "\n",
      "Enter your authorization code:\n",
      "··········\n",
      "Mounted at /content/drive\n"
     ]
    }
   ],
   "source": [
    "from google.colab import drive\n",
    "drive.mount('/content/drive')"
   ]
  },
  {
   "cell_type": "code",
   "execution_count": 0,
   "metadata": {
    "colab": {
     "base_uri": "https://localhost:8080/",
     "height": 36
    },
    "colab_type": "code",
    "executionInfo": {
     "elapsed": 450,
     "status": "ok",
     "timestamp": 1583727494165,
     "user": {
      "displayName": "Anunay Vivek Sanganal",
      "photoUrl": "",
      "userId": "10367548046959114765"
     },
     "user_tz": 240
    },
    "id": "xnMjT1DF6_zn",
    "outputId": "a1ab59ca-06dc-4c7b-cb1c-dcad636df214"
   },
   "outputs": [
    {
     "name": "stdout",
     "output_type": "stream",
     "text": [
      "/content/drive/My Drive\n"
     ]
    }
   ],
   "source": [
    "cd ./drive/My\\ Drive/"
   ]
  },
  {
   "cell_type": "code",
   "execution_count": 0,
   "metadata": {
    "colab": {
     "base_uri": "https://localhost:8080/",
     "height": 128
    },
    "colab_type": "code",
    "executionInfo": {
     "elapsed": 3768,
     "status": "ok",
     "timestamp": 1583727497910,
     "user": {
      "displayName": "Anunay Vivek Sanganal",
      "photoUrl": "",
      "userId": "10367548046959114765"
     },
     "user_tz": 240
    },
    "id": "fHfp_e_G4Azp",
    "outputId": "fd509c48-57ff-41e8-a63b-94f1778ad6f4"
   },
   "outputs": [
    {
     "name": "stdout",
     "output_type": "stream",
     "text": [
      "`%tensorflow_version` only switches the major version: 1.x or 2.x.\n",
      "You set: `1.4`. This will be interpreted as: `1.x`.\n",
      "\n",
      "\n",
      "TensorFlow 1.x selected.\n"
     ]
    },
    {
     "name": "stderr",
     "output_type": "stream",
     "text": [
      "Using TensorFlow backend.\n"
     ]
    }
   ],
   "source": [
    "%tensorflow_version 1.4\n",
    "import os\n",
    "import argparse\n",
    "import model_training.sentiment_dataset as sentiment_dataset\n",
    "import model_training.sentiment_model_cnn as sentiment_model_cnn\n",
    "import model_training.config_holder as config_holder\n",
    "import numpy as np"
   ]
  },
  {
   "cell_type": "code",
   "execution_count": 0,
   "metadata": {
    "colab": {},
    "colab_type": "code",
    "id": "T-C5ajHF4Azw"
   },
   "outputs": [],
   "source": [
    "import tensorflow as tf\n",
    "from tensorflow.keras.preprocessing.text import Tokenizer\n",
    "from tensorflow.keras.preprocessing.sequence import pad_sequences\n",
    "from tensorflow.keras.models import Sequential\n",
    "from tensorflow.keras.layers import Dense\n",
    "from tensorflow.keras.layers import Flatten\n",
    "from tensorflow.keras.layers import Embedding\n",
    "from tensorflow.keras.layers import Conv1D\n",
    "from tensorflow.keras.layers import MaxPooling1D\n",
    "from tensorflow.keras.layers import GlobalMaxPool1D\n",
    "from tensorflow.keras.layers import LSTM\n",
    "from tensorflow.keras.layers import Bidirectional\n",
    "from tensorflow.keras.layers import GRU\n",
    "from tensorflow.keras.layers import Dropout\n",
    "from tensorflow.keras.optimizers import Adam"
   ]
  },
  {
   "cell_type": "code",
   "execution_count": 0,
   "metadata": {
    "colab": {},
    "colab_type": "code",
    "id": "58nISPiE4Az1"
   },
   "outputs": [],
   "source": [
    "args = {'config_file': './model_training/training_config.json',\n",
    "       'num_epoch': 3,\n",
    "       'train': './model_training/data/train/',\n",
    "       'validation': './model_training/data/dev/',\n",
    "       'eval': './model_training/data/eval/'\n",
    "       }"
   ]
  },
  {
   "cell_type": "code",
   "execution_count": 0,
   "metadata": {
    "colab": {
     "base_uri": "https://localhost:8080/",
     "height": 278
    },
    "colab_type": "code",
    "executionInfo": {
     "elapsed": 1009280,
     "status": "ok",
     "timestamp": 1583728504093,
     "user": {
      "displayName": "Anunay Vivek Sanganal",
      "photoUrl": "",
      "userId": "10367548046959114765"
     },
     "user_tz": 240
    },
    "id": "aMgpcnmI4Az5",
    "outputId": "19d69162-db9b-4734-df80-ff88d0a3e3d8",
    "scrolled": false
   },
   "outputs": [
    {
     "name": "stdout",
     "output_type": "stream",
     "text": [
      "Preparing for training...\n",
      "Fetching train data...\n",
      "train\n",
      "WARNING:tensorflow:From /usr/local/lib/python3.6/dist-packages/tensorflow_core/python/data/util/random_seed.py:58: where (from tensorflow.python.ops.array_ops) is deprecated and will be removed in a future version.\n",
      "Instructions for updating:\n",
      "Use tf.where in 2.0, which has the same broadcast rule as np.where\n",
      "WARNING:tensorflow:From /content/drive/My Drive/model_training/sentiment_dataset.py:83: DatasetV1.make_one_shot_iterator (from tensorflow.python.data.ops.dataset_ops) is deprecated and will be removed in a future version.\n",
      "Instructions for updating:\n",
      "Use `for ... in dataset:` to iterate over a dataset. If using `tf.estimator`, return the `Dataset` object directly from your input function. As a last resort, you can use `tf.compat.v1.data.make_one_shot_iterator(dataset)`.\n",
      "Fetching validation data...\n",
      "dev\n",
      "Fetching eval data...\n",
      "eval\n"
     ]
    }
   ],
   "source": [
    "print(\"Preparing for training...\")\n",
    "\n",
    "training_config = config_holder.ConfigHolder(args['config_file']).config\n",
    "\n",
    "training_config[\"num_epoch\"] = args['num_epoch']\n",
    "\n",
    "train_dataset = sentiment_dataset.train_input_fn(args['train'], training_config)\n",
    "validation_dataset = sentiment_dataset.validation_input_fn(args['validation'], training_config)\n",
    "eval_dataset = sentiment_dataset.eval_input_fn(args['eval'], training_config)\n",
    "\n",
    "#train: 1,360,000\n",
    "#dev: 160,000\n",
    "#eval: 80,000\n"
   ]
  },
  {
   "cell_type": "code",
   "execution_count": 0,
   "metadata": {
    "colab": {
     "base_uri": "https://localhost:8080/",
     "height": 36
    },
    "colab_type": "code",
    "executionInfo": {
     "elapsed": 1076912,
     "status": "ok",
     "timestamp": 1583728572000,
     "user": {
      "displayName": "Anunay Vivek Sanganal",
      "photoUrl": "",
      "userId": "10367548046959114765"
     },
     "user_tz": 240
    },
    "id": "ZqDUIRu74A0F",
    "outputId": "f42d7dfa-6ccf-430e-b871-663f25320371"
   },
   "outputs": [
    {
     "name": "stdout",
     "output_type": "stream",
     "text": [
      "Loaded 1193515 word vectors.\n"
     ]
    }
   ],
   "source": [
    "embeddings_index = dict()\n",
    "f = open('model_training/dictionary/glove.twitter.27B.200d.txt', encoding=\"utf-8\")\n",
    "for line in f:\n",
    "\tvalues = line.split()\n",
    "\tword = values[0]\n",
    "\tcoefs = np.array(values[1:], dtype='float32')\n",
    "\tembeddings_index[word] = coefs\n",
    "f.close()\n",
    "print('Loaded %s word vectors.' % len(embeddings_index))"
   ]
  },
  {
   "cell_type": "code",
   "execution_count": 0,
   "metadata": {
    "colab": {},
    "colab_type": "code",
    "id": "msaogivX4A0J"
   },
   "outputs": [],
   "source": [
    "vocab_size = len(embeddings_index.keys())"
   ]
  },
  {
   "cell_type": "code",
   "execution_count": 0,
   "metadata": {
    "colab": {},
    "colab_type": "code",
    "id": "mCtNZutj4A0P"
   },
   "outputs": [],
   "source": [
    "n = len(embeddings_index.keys())\n",
    "m = len(embeddings_index['the'])\n",
    "\n",
    "embedding_matrix = np.zeros((n,m))\n",
    "for index, key in zip(range(0, n), embeddings_index.keys()):\n",
    "    embedding_matrix[index] = embeddings_index[key]"
   ]
  },
  {
   "cell_type": "code",
   "execution_count": 0,
   "metadata": {
    "colab": {
     "base_uri": "https://localhost:8080/",
     "height": 36
    },
    "colab_type": "code",
    "executionInfo": {
     "elapsed": 1078054,
     "status": "ok",
     "timestamp": 1583728573832,
     "user": {
      "displayName": "Anunay Vivek Sanganal",
      "photoUrl": "",
      "userId": "10367548046959114765"
     },
     "user_tz": 240
    },
    "id": "OZEMTfEr4A0Y",
    "outputId": "6d03d32a-1b4e-4dd5-8651-393d909c6cc7"
   },
   "outputs": [
    {
     "data": {
      "text/plain": [
       "(1193515, 200)"
      ]
     },
     "execution_count": 10,
     "metadata": {
      "tags": []
     },
     "output_type": "execute_result"
    }
   ],
   "source": [
    "embedding_matrix.shape"
   ]
  },
  {
   "cell_type": "markdown",
   "metadata": {
    "colab_type": "text",
    "id": "bmFMRHqAbPDW"
   },
   "source": [
    "##Benchmark"
   ]
  },
  {
   "cell_type": "code",
   "execution_count": 0,
   "metadata": {
    "colab": {
     "base_uri": "https://localhost:8080/",
     "height": 148
    },
    "colab_type": "code",
    "executionInfo": {
     "elapsed": 1091961,
     "status": "ok",
     "timestamp": 1583728588567,
     "user": {
      "displayName": "Anunay Vivek Sanganal",
      "photoUrl": "",
      "userId": "10367548046959114765"
     },
     "user_tz": 240
    },
    "id": "rFixYJuEa_ai",
    "outputId": "46cfa394-d310-415e-f85b-688ffb13d7dd"
   },
   "outputs": [
    {
     "name": "stdout",
     "output_type": "stream",
     "text": [
      "WARNING:tensorflow:From /usr/local/lib/python3.6/dist-packages/tensorflow_core/python/keras/initializers.py:119: calling RandomUniform.__init__ (from tensorflow.python.ops.init_ops) with dtype is deprecated and will be removed in a future version.\n",
      "Instructions for updating:\n",
      "Call initializer instance with the dtype argument instead of passing it to the constructor\n",
      "WARNING:tensorflow:From /usr/local/lib/python3.6/dist-packages/tensorflow_core/python/ops/resource_variable_ops.py:1630: calling BaseResourceVariable.__init__ (from tensorflow.python.ops.resource_variable_ops) with constraint is deprecated and will be removed in a future version.\n",
      "Instructions for updating:\n",
      "If using Keras pass *_constraint arguments to layers.\n"
     ]
    }
   ],
   "source": [
    "# define model\n",
    "model = Sequential()\n",
    "\n",
    "# Layer 1: Embedding layer\n",
    "# This layer should load the embeddings vectors from your dictionary as a numpy array\n",
    "# - input_leght should be equal to your padding length\n",
    "# - input_dim should be the length of your word list\n",
    "# - output_dim should be the size your your embedding vectors\n",
    "# - trainable True\n",
    "model.add(Embedding(vocab_size, 200, weights=[embedding_matrix], input_length=100, trainable=True, name='embedding'))\n",
    "\n",
    "# Layer 2: Convolution1D layer\n",
    "# - filters 100\n",
    "# - kernel_size 2\n",
    "# - strides 1\n",
    "# - padding 'valid'\n",
    "# - activation 'relu'\n",
    "model.add(Conv1D(filters = 100, kernel_size = 2, strides = 1, padding = 'valid', activation = 'relu'))\n",
    "\n",
    "# Layer 3: GLobalMaxPool1D layer\n",
    "model.add(GlobalMaxPool1D())\n",
    "\n",
    "# Layer 4: Dense layer\n",
    "# - units 100\n",
    "# - activation 'relu'\n",
    "model.add(Dense(100, activation = 'relu'))\n",
    "\n",
    "# Layer 5: Dense layer\n",
    "# - units 1\n",
    "# - activation 'sigmoid'\n",
    "model.add(Dense(1, activation = 'sigmoid'))\n",
    "\n",
    "adam = Adam(lr=0.0005)\n",
    "\n",
    "model.compile(optimizer=adam, loss='binary_crossentropy', metrics=['accuracy'])"
   ]
  },
  {
   "cell_type": "code",
   "execution_count": 0,
   "metadata": {
    "colab": {
     "base_uri": "https://localhost:8080/",
     "height": 351
    },
    "colab_type": "code",
    "executionInfo": {
     "elapsed": 2100856,
     "status": "ok",
     "timestamp": 1583729599268,
     "user": {
      "displayName": "Anunay Vivek Sanganal",
      "photoUrl": "",
      "userId": "10367548046959114765"
     },
     "user_tz": 240
    },
    "id": "J84y0iWdvYNx",
    "outputId": "5039ce98-aadc-4b39-a113-68e7d9f11940"
   },
   "outputs": [
    {
     "name": "stdout",
     "output_type": "stream",
     "text": [
      "Model: \"sequential\"\n",
      "_________________________________________________________________\n",
      "Layer (type)                 Output Shape              Param #   \n",
      "=================================================================\n",
      "embedding (Embedding)        (None, 100, 200)          238703000 \n",
      "_________________________________________________________________\n",
      "conv1d (Conv1D)              (None, 99, 100)           40100     \n",
      "_________________________________________________________________\n",
      "global_max_pooling1d (Global (None, 100)               0         \n",
      "_________________________________________________________________\n",
      "dense (Dense)                (None, 100)               10100     \n",
      "_________________________________________________________________\n",
      "dense_1 (Dense)              (None, 1)                 101       \n",
      "=================================================================\n",
      "Total params: 238,753,301\n",
      "Trainable params: 238,753,301\n",
      "Non-trainable params: 0\n",
      "_________________________________________________________________\n"
     ]
    }
   ],
   "source": [
    "model.summary()"
   ]
  },
  {
   "cell_type": "code",
   "execution_count": 0,
   "metadata": {
    "colab": {
     "base_uri": "https://localhost:8080/",
     "height": 184
    },
    "colab_type": "code",
    "executionInfo": {
     "elapsed": 2102148,
     "status": "ok",
     "timestamp": 1583729599265,
     "user": {
      "displayName": "Anunay Vivek Sanganal",
      "photoUrl": "",
      "userId": "10367548046959114765"
     },
     "user_tz": 240
    },
    "id": "uaOAnZa0XQYw",
    "outputId": "5a743a31-5f7b-4e42-f1f7-bda85269b7ba"
   },
   "outputs": [
    {
     "name": "stdout",
     "output_type": "stream",
     "text": [
      "Train on 1360 samples, validate on 1000 samples\n",
      "Epoch 1/3\n",
      "1360/1360 [==============================] - 346s 255ms/step - loss: 0.4635 - acc: 0.7766 - val_loss: 0.4426 - val_acc: 0.7911\n",
      "Epoch 2/3\n",
      "1360/1360 [==============================] - 324s 238ms/step - loss: 0.4221 - acc: 0.8033 - val_loss: 0.4378 - val_acc: 0.7944\n",
      "Epoch 3/3\n",
      "1360/1360 [==============================] - 323s 238ms/step - loss: 0.3966 - acc: 0.8186 - val_loss: 0.4399 - val_acc: 0.7941\n",
      "Test loss:0.4395864550024271\n",
      "Test accuracy:0.7940875291824341\n"
     ]
    }
   ],
   "source": [
    "model.fit(x = train_dataset[0], \n",
    "          y = train_dataset[1], \n",
    "          steps_per_epoch = train_dataset[2][\"num_batches\"],\n",
    "          epochs = training_config[\"num_epoch\"],\n",
    "          validation_data = (validation_dataset[0]['embedding_input'], validation_dataset[1]),\n",
    "          validation_steps = validation_dataset[2][\"num_batches\"])\n",
    "\n",
    "score = model.evaluate(\n",
    "eval_dataset[0], eval_dataset[1], steps=eval_dataset[2][\"num_batches\"], verbose=0)\n",
    "\n",
    "print(\"Test loss:{}\".format(score[0]))\n",
    "print(\"Test accuracy:{}\".format(score[1]))"
   ]
  },
  {
   "cell_type": "code",
   "execution_count": 0,
   "metadata": {
    "colab": {
     "base_uri": "https://localhost:8080/",
     "height": 54
    },
    "colab_type": "code",
    "executionInfo": {
     "elapsed": 2106828,
     "status": "ok",
     "timestamp": 1583729605806,
     "user": {
      "displayName": "Anunay Vivek Sanganal",
      "photoUrl": "",
      "userId": "10367548046959114765"
     },
     "user_tz": 240
    },
    "id": "0MWoomb4jyv_",
    "outputId": "564cc840-70fa-41de-97de-b3cf4c0514d1"
   },
   "outputs": [
    {
     "name": "stdout",
     "output_type": "stream",
     "text": [
      "Test loss:0.4395864550024271\n",
      "Test accuracy:0.7940875291824341\n"
     ]
    }
   ],
   "source": [
    "score = model.evaluate(\n",
    "eval_dataset[0], eval_dataset[1], steps=eval_dataset[2][\"num_batches\"], verbose=0)\n",
    "\n",
    "print(\"Test loss:{}\".format(score[0]))\n",
    "print(\"Test accuracy:{}\".format(score[1]))"
   ]
  },
  {
   "cell_type": "code",
   "execution_count": 0,
   "metadata": {
    "colab": {
     "base_uri": "https://localhost:8080/",
     "height": 36
    },
    "colab_type": "code",
    "executionInfo": {
     "elapsed": 2160634,
     "status": "ok",
     "timestamp": 1583729660023,
     "user": {
      "displayName": "Anunay Vivek Sanganal",
      "photoUrl": "",
      "userId": "10367548046959114765"
     },
     "user_tz": 240
    },
    "id": "ZZpjV-3qvynU",
    "outputId": "f0ee5a31-e313-48e4-a356-f303b0ce3198"
   },
   "outputs": [
    {
     "name": "stdout",
     "output_type": "stream",
     "text": [
      "INFO:tensorflow:Assets written to: output_model_benchmark/sentiment_model.h5/1/assets\n"
     ]
    }
   ],
   "source": [
    "folder = 'output_model_benchmark'\n",
    "output = os.path.join(folder, \"sentiment_model.h5\")\n",
    "tf.saved_model.save(model, os.path.join(output, \"1\"))"
   ]
  },
  {
   "cell_type": "code",
   "execution_count": 0,
   "metadata": {
    "colab": {},
    "colab_type": "code",
    "id": "qjW8Ui5wgt9F"
   },
   "outputs": [],
   "source": []
  }
 ],
 "metadata": {
  "accelerator": "GPU",
  "colab": {
   "collapsed_sections": [],
   "machine_shape": "hm",
   "name": "3 epochs_benchmark.ipynb",
   "provenance": []
  },
  "kernelspec": {
   "display_name": "Python 3",
   "language": "python",
   "name": "python3"
  },
  "language_info": {
   "codemirror_mode": {
    "name": "ipython",
    "version": 3
   },
   "file_extension": ".py",
   "mimetype": "text/x-python",
   "name": "python",
   "nbconvert_exporter": "python",
   "pygments_lexer": "ipython3",
   "version": "3.7.4"
  }
 },
 "nbformat": 4,
 "nbformat_minor": 1
}
