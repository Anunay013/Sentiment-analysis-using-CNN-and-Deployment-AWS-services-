{
 "cells": [
  {
   "cell_type": "code",
   "execution_count": 0,
   "metadata": {
    "colab": {
     "base_uri": "https://localhost:8080/",
     "height": 130
    },
    "colab_type": "code",
    "executionInfo": {
     "elapsed": 103817,
     "status": "ok",
     "timestamp": 1583727430729,
     "user": {
      "displayName": "Anunay Vivek Sanganal",
      "photoUrl": "",
      "userId": "10367548046959114765"
     },
     "user_tz": 240
    },
    "id": "1YLRO_gO6hgh",
    "outputId": "d609370a-b466-4c5f-bf3f-117eccc8cbda"
   },
   "outputs": [
    {
     "name": "stdout",
     "output_type": "stream",
     "text": [
      "Go to this URL in a browser: https://accounts.google.com/o/oauth2/auth?client_id=947318989803-6bn6qk8qdgf4n4g3pfee6491hc0brc4i.apps.googleusercontent.com&redirect_uri=urn%3aietf%3awg%3aoauth%3a2.0%3aoob&response_type=code&scope=email%20https%3a%2f%2fwww.googleapis.com%2fauth%2fdocs.test%20https%3a%2f%2fwww.googleapis.com%2fauth%2fdrive%20https%3a%2f%2fwww.googleapis.com%2fauth%2fdrive.photos.readonly%20https%3a%2f%2fwww.googleapis.com%2fauth%2fpeopleapi.readonly\n",
      "\n",
      "Enter your authorization code:\n",
      "··········\n",
      "Mounted at /content/drive\n"
     ]
    }
   ],
   "source": [
    "from google.colab import drive\n",
    "drive.mount('/content/drive')"
   ]
  },
  {
   "cell_type": "code",
   "execution_count": 0,
   "metadata": {
    "colab": {
     "base_uri": "https://localhost:8080/",
     "height": 36
    },
    "colab_type": "code",
    "executionInfo": {
     "elapsed": 836,
     "status": "ok",
     "timestamp": 1583727467515,
     "user": {
      "displayName": "Anunay Vivek Sanganal",
      "photoUrl": "",
      "userId": "10367548046959114765"
     },
     "user_tz": 240
    },
    "id": "xnMjT1DF6_zn",
    "outputId": "2c996e60-8ad7-4149-ac25-d734e74bf1cd"
   },
   "outputs": [
    {
     "name": "stdout",
     "output_type": "stream",
     "text": [
      "/content/drive/My Drive\n"
     ]
    }
   ],
   "source": [
    "cd ./drive/My\\ Drive/"
   ]
  },
  {
   "cell_type": "code",
   "execution_count": 0,
   "metadata": {
    "colab": {
     "base_uri": "https://localhost:8080/",
     "height": 128
    },
    "colab_type": "code",
    "executionInfo": {
     "elapsed": 4104,
     "status": "ok",
     "timestamp": 1583727471182,
     "user": {
      "displayName": "Anunay Vivek Sanganal",
      "photoUrl": "",
      "userId": "10367548046959114765"
     },
     "user_tz": 240
    },
    "id": "fHfp_e_G4Azp",
    "outputId": "c5d832cf-a9c9-44b2-e498-12b83a5d6f05"
   },
   "outputs": [
    {
     "name": "stdout",
     "output_type": "stream",
     "text": [
      "`%tensorflow_version` only switches the major version: 1.x or 2.x.\n",
      "You set: `1.4`. This will be interpreted as: `1.x`.\n",
      "\n",
      "\n",
      "TensorFlow 1.x selected.\n"
     ]
    },
    {
     "name": "stderr",
     "output_type": "stream",
     "text": [
      "Using TensorFlow backend.\n"
     ]
    }
   ],
   "source": [
    "# !pip install tensorflow==1.14\n",
    "%tensorflow_version 1.4\n",
    "import os\n",
    "import argparse\n",
    "import model_training.sentiment_dataset as sentiment_dataset\n",
    "import model_training.sentiment_model_cnn as sentiment_model_cnn\n",
    "import model_training.config_holder as config_holder\n",
    "import numpy as np"
   ]
  },
  {
   "cell_type": "code",
   "execution_count": 0,
   "metadata": {
    "colab": {},
    "colab_type": "code",
    "id": "T-C5ajHF4Azw"
   },
   "outputs": [],
   "source": [
    "# from numpy import array\n",
    "# from numpy import asarray\n",
    "# from numpy import zeros\n",
    "import tensorflow as tf\n",
    "from tensorflow.keras.preprocessing.text import Tokenizer\n",
    "from tensorflow.keras.preprocessing.sequence import pad_sequences\n",
    "from tensorflow.keras.models import Sequential\n",
    "from tensorflow.keras.layers import Dense\n",
    "from tensorflow.keras.layers import Flatten\n",
    "from tensorflow.keras.layers import Embedding\n",
    "from tensorflow.keras.layers import Conv1D\n",
    "from tensorflow.keras.layers import MaxPooling1D\n",
    "from tensorflow.keras.layers import GlobalMaxPool1D\n",
    "from tensorflow.keras.layers import LSTM\n",
    "from tensorflow.keras.layers import Bidirectional\n",
    "from tensorflow.keras.layers import GRU\n",
    "from tensorflow.keras.layers import Dropout\n",
    "from tensorflow.keras.optimizers import Adam"
   ]
  },
  {
   "cell_type": "code",
   "execution_count": 0,
   "metadata": {
    "colab": {},
    "colab_type": "code",
    "id": "58nISPiE4Az1"
   },
   "outputs": [],
   "source": [
    "args = {'config_file': './model_training/training_config.json',\n",
    "       'num_epoch': 4,\n",
    "       'train': './model_training/data/train/',\n",
    "       'validation': './model_training/data/dev/',\n",
    "       'eval': './model_training/data/eval/'\n",
    "       }"
   ]
  },
  {
   "cell_type": "code",
   "execution_count": 0,
   "metadata": {
    "colab": {
     "base_uri": "https://localhost:8080/",
     "height": 278
    },
    "colab_type": "code",
    "executionInfo": {
     "elapsed": 1062636,
     "status": "ok",
     "timestamp": 1583728530605,
     "user": {
      "displayName": "Anunay Vivek Sanganal",
      "photoUrl": "",
      "userId": "10367548046959114765"
     },
     "user_tz": 240
    },
    "id": "aMgpcnmI4Az5",
    "outputId": "3704b259-a197-4f48-b5ee-92c2c4dea82c",
    "scrolled": false
   },
   "outputs": [
    {
     "name": "stdout",
     "output_type": "stream",
     "text": [
      "Preparing for training...\n",
      "Fetching train data...\n",
      "train\n",
      "WARNING:tensorflow:From /usr/local/lib/python3.6/dist-packages/tensorflow_core/python/data/util/random_seed.py:58: where (from tensorflow.python.ops.array_ops) is deprecated and will be removed in a future version.\n",
      "Instructions for updating:\n",
      "Use tf.where in 2.0, which has the same broadcast rule as np.where\n",
      "WARNING:tensorflow:From /content/drive/My Drive/model_training/sentiment_dataset.py:83: DatasetV1.make_one_shot_iterator (from tensorflow.python.data.ops.dataset_ops) is deprecated and will be removed in a future version.\n",
      "Instructions for updating:\n",
      "Use `for ... in dataset:` to iterate over a dataset. If using `tf.estimator`, return the `Dataset` object directly from your input function. As a last resort, you can use `tf.compat.v1.data.make_one_shot_iterator(dataset)`.\n",
      "Fetching validation data...\n",
      "dev\n",
      "Fetching eval data...\n",
      "eval\n"
     ]
    }
   ],
   "source": [
    "print(\"Preparing for training...\")\n",
    "\n",
    "training_config = config_holder.ConfigHolder(args['config_file']).config\n",
    "\n",
    "training_config[\"num_epoch\"] = args['num_epoch']\n",
    "\n",
    "train_dataset = sentiment_dataset.train_input_fn(args['train'], training_config)\n",
    "validation_dataset = sentiment_dataset.validation_input_fn(args['validation'], training_config)\n",
    "eval_dataset = sentiment_dataset.eval_input_fn(args['eval'], training_config)\n",
    "\n",
    "#train: 1,360,000\n",
    "#dev: 160,000\n",
    "#eval: 80,000\n"
   ]
  },
  {
   "cell_type": "code",
   "execution_count": 0,
   "metadata": {
    "colab": {
     "base_uri": "https://localhost:8080/",
     "height": 36
    },
    "colab_type": "code",
    "executionInfo": {
     "elapsed": 1139384,
     "status": "ok",
     "timestamp": 1583728607533,
     "user": {
      "displayName": "Anunay Vivek Sanganal",
      "photoUrl": "",
      "userId": "10367548046959114765"
     },
     "user_tz": 240
    },
    "id": "ZqDUIRu74A0F",
    "outputId": "d0692fe3-8cf6-4a8a-8d29-3111cdd5424a"
   },
   "outputs": [
    {
     "name": "stdout",
     "output_type": "stream",
     "text": [
      "Loaded 1193515 word vectors.\n"
     ]
    }
   ],
   "source": [
    "embeddings_index = dict()\n",
    "f = open('model_training/dictionary/glove.twitter.27B.200d.txt', encoding=\"utf-8\")\n",
    "for line in f:\n",
    "\tvalues = line.split()\n",
    "\tword = values[0]\n",
    "\tcoefs = np.array(values[1:], dtype='float32')\n",
    "\tembeddings_index[word] = coefs\n",
    "f.close()\n",
    "print('Loaded %s word vectors.' % len(embeddings_index))"
   ]
  },
  {
   "cell_type": "code",
   "execution_count": 0,
   "metadata": {
    "colab": {},
    "colab_type": "code",
    "id": "msaogivX4A0J"
   },
   "outputs": [],
   "source": [
    "vocab_size = len(embeddings_index.keys())"
   ]
  },
  {
   "cell_type": "code",
   "execution_count": 0,
   "metadata": {
    "colab": {},
    "colab_type": "code",
    "id": "mCtNZutj4A0P"
   },
   "outputs": [],
   "source": [
    "n = len(embeddings_index.keys())\n",
    "m = len(embeddings_index['the'])\n",
    "\n",
    "embedding_matrix = np.zeros((n,m))\n",
    "for index, key in zip(range(0, n), embeddings_index.keys()):\n",
    "    embedding_matrix[index] = embeddings_index[key]"
   ]
  },
  {
   "cell_type": "code",
   "execution_count": 0,
   "metadata": {
    "colab": {
     "base_uri": "https://localhost:8080/",
     "height": 36
    },
    "colab_type": "code",
    "executionInfo": {
     "elapsed": 3043,
     "status": "ok",
     "timestamp": 1583728610593,
     "user": {
      "displayName": "Anunay Vivek Sanganal",
      "photoUrl": "",
      "userId": "10367548046959114765"
     },
     "user_tz": 240
    },
    "id": "OZEMTfEr4A0Y",
    "outputId": "47b30e96-9fab-4ff1-b901-00ab957c616a"
   },
   "outputs": [
    {
     "data": {
      "text/plain": [
       "(1193515, 200)"
      ]
     },
     "execution_count": 10,
     "metadata": {
      "tags": []
     },
     "output_type": "execute_result"
    }
   ],
   "source": [
    "embedding_matrix.shape"
   ]
  },
  {
   "cell_type": "markdown",
   "metadata": {
    "colab_type": "text",
    "id": "mq4nYCY73jrK"
   },
   "source": [
    "##Model2: GRU (Gated Recurrent Units)"
   ]
  },
  {
   "cell_type": "code",
   "execution_count": 0,
   "metadata": {
    "colab": {
     "base_uri": "https://localhost:8080/",
     "height": 316
    },
    "colab_type": "code",
    "executionInfo": {
     "elapsed": 19113,
     "status": "ok",
     "timestamp": 1583728626666,
     "user": {
      "displayName": "Anunay Vivek Sanganal",
      "photoUrl": "",
      "userId": "10367548046959114765"
     },
     "user_tz": 240
    },
    "id": "f_75DgaY3jCM",
    "outputId": "539edf21-3eec-4c43-b4fc-df6e1da32830"
   },
   "outputs": [
    {
     "name": "stdout",
     "output_type": "stream",
     "text": [
      "WARNING:tensorflow:From /usr/local/lib/python3.6/dist-packages/tensorflow_core/python/keras/initializers.py:119: calling RandomUniform.__init__ (from tensorflow.python.ops.init_ops) with dtype is deprecated and will be removed in a future version.\n",
      "Instructions for updating:\n",
      "Call initializer instance with the dtype argument instead of passing it to the constructor\n",
      "WARNING:tensorflow:From /usr/local/lib/python3.6/dist-packages/tensorflow_core/python/ops/resource_variable_ops.py:1630: calling BaseResourceVariable.__init__ (from tensorflow.python.ops.resource_variable_ops) with constraint is deprecated and will be removed in a future version.\n",
      "Instructions for updating:\n",
      "If using Keras pass *_constraint arguments to layers.\n",
      "WARNING:tensorflow:From /usr/local/lib/python3.6/dist-packages/tensorflow_core/python/ops/init_ops.py:97: calling GlorotUniform.__init__ (from tensorflow.python.ops.init_ops) with dtype is deprecated and will be removed in a future version.\n",
      "Instructions for updating:\n",
      "Call initializer instance with the dtype argument instead of passing it to the constructor\n",
      "WARNING:tensorflow:From /usr/local/lib/python3.6/dist-packages/tensorflow_core/python/ops/init_ops.py:97: calling Orthogonal.__init__ (from tensorflow.python.ops.init_ops) with dtype is deprecated and will be removed in a future version.\n",
      "Instructions for updating:\n",
      "Call initializer instance with the dtype argument instead of passing it to the constructor\n",
      "WARNING:tensorflow:From /usr/local/lib/python3.6/dist-packages/tensorflow_core/python/ops/init_ops.py:97: calling Zeros.__init__ (from tensorflow.python.ops.init_ops) with dtype is deprecated and will be removed in a future version.\n",
      "Instructions for updating:\n",
      "Call initializer instance with the dtype argument instead of passing it to the constructor\n"
     ]
    }
   ],
   "source": [
    "model = Sequential() \n",
    "\n",
    "model.add(Embedding(input_dim = vocab_size, output_dim = 200, weights=[embedding_matrix], input_length=100, trainable=True, name='embedding'))\n",
    "\n",
    "model.add(Bidirectional(GRU(64, dropout=0.5, recurrent_dropout=0.5, return_sequences= True)))\n",
    "\n",
    "model.add(Bidirectional(GRU(64, dropout=0.5, recurrent_dropout=0.5)))\n",
    "\n",
    "model.add(Dense(1, activation='sigmoid')) \n",
    "\n",
    "adam = Adam(lr=0.0005)\n",
    "\n",
    "model.compile(optimizer=adam, loss='binary_crossentropy', metrics=['accuracy'])"
   ]
  },
  {
   "cell_type": "code",
   "execution_count": 0,
   "metadata": {
    "colab": {
     "base_uri": "https://localhost:8080/",
     "height": 314
    },
    "colab_type": "code",
    "executionInfo": {
     "elapsed": 19114,
     "status": "ok",
     "timestamp": 1583728626669,
     "user": {
      "displayName": "Anunay Vivek Sanganal",
      "photoUrl": "",
      "userId": "10367548046959114765"
     },
     "user_tz": 240
    },
    "id": "3oC6vU0UGNTD",
    "outputId": "5278c3de-aae5-41a8-ba63-2b19b1426718"
   },
   "outputs": [
    {
     "name": "stdout",
     "output_type": "stream",
     "text": [
      "Model: \"sequential\"\n",
      "_________________________________________________________________\n",
      "Layer (type)                 Output Shape              Param #   \n",
      "=================================================================\n",
      "embedding (Embedding)        (None, 100, 200)          238703000 \n",
      "_________________________________________________________________\n",
      "bidirectional (Bidirectional (None, 100, 128)          101760    \n",
      "_________________________________________________________________\n",
      "bidirectional_1 (Bidirection (None, 128)               74112     \n",
      "_________________________________________________________________\n",
      "dense (Dense)                (None, 1)                 129       \n",
      "=================================================================\n",
      "Total params: 238,879,001\n",
      "Trainable params: 238,879,001\n",
      "Non-trainable params: 0\n",
      "_________________________________________________________________\n"
     ]
    }
   ],
   "source": [
    "model.summary()"
   ]
  },
  {
   "cell_type": "code",
   "execution_count": 0,
   "metadata": {
    "colab": {
     "base_uri": "https://localhost:8080/",
     "height": 221
    },
    "colab_type": "code",
    "executionInfo": {
     "elapsed": 3515364,
     "status": "ok",
     "timestamp": 1583734102588,
     "user": {
      "displayName": "Anunay Vivek Sanganal",
      "photoUrl": "",
      "userId": "10367548046959114765"
     },
     "user_tz": 240
    },
    "id": "uaOAnZa0XQYw",
    "outputId": "c0502d15-fe2e-45c7-de32-ca726c1ab000"
   },
   "outputs": [
    {
     "name": "stdout",
     "output_type": "stream",
     "text": [
      "Train on 1360 samples, validate on 1000 samples\n",
      "Epoch 1/4\n",
      "1360/1360 [==============================] - 1381s 1s/step - loss: 0.4950 - acc: 0.7566 - val_loss: 0.4497 - val_acc: 0.7882\n",
      "Epoch 2/4\n",
      "1360/1360 [==============================] - 1353s 995ms/step - loss: 0.4514 - acc: 0.7864 - val_loss: 0.4415 - val_acc: 0.7929\n",
      "Epoch 3/4\n",
      "1360/1360 [==============================] - 1354s 996ms/step - loss: 0.4376 - acc: 0.7949 - val_loss: 0.4389 - val_acc: 0.7944\n",
      "Epoch 4/4\n",
      "1360/1360 [==============================] - 1352s 994ms/step - loss: 0.4271 - acc: 0.8009 - val_loss: 0.4374 - val_acc: 0.7963\n",
      "Test loss:0.4378286588937044\n",
      "Test accuracy:0.7947624921798706\n"
     ]
    }
   ],
   "source": [
    "model.fit(x = train_dataset[0], \n",
    "          y = train_dataset[1], \n",
    "          steps_per_epoch = train_dataset[2][\"num_batches\"],\n",
    "          epochs = training_config[\"num_epoch\"],\n",
    "          validation_data = (validation_dataset[0]['embedding_input'], validation_dataset[1]),\n",
    "          validation_steps = validation_dataset[2][\"num_batches\"])\n",
    "\n",
    "score = model.evaluate(\n",
    "eval_dataset[0], eval_dataset[1], steps=eval_dataset[2][\"num_batches\"], verbose=0)\n",
    "\n",
    "print(\"Test loss:{}\".format(score[0]))\n",
    "print(\"Test accuracy:{}\".format(score[1]))ss"
   ]
  },
  {
   "cell_type": "code",
   "execution_count": 0,
   "metadata": {
    "colab": {
     "base_uri": "https://localhost:8080/",
     "height": 54
    },
    "colab_type": "code",
    "executionInfo": {
     "elapsed": 22110,
     "status": "ok",
     "timestamp": 1583734124693,
     "user": {
      "displayName": "Anunay Vivek Sanganal",
      "photoUrl": "",
      "userId": "10367548046959114765"
     },
     "user_tz": 240
    },
    "id": "0MWoomb4jyv_",
    "outputId": "acf6d808-fd6e-4189-e4ff-c8f646cecf61"
   },
   "outputs": [
    {
     "name": "stdout",
     "output_type": "stream",
     "text": [
      "Test loss:0.4378286588937044\n",
      "Test accuracy:0.7947624921798706\n"
     ]
    }
   ],
   "source": [
    "score = model.evaluate(\n",
    "eval_dataset[0], eval_dataset[1], steps=eval_dataset[2][\"num_batches\"], verbose=0)\n",
    "\n",
    "print(\"Test loss:{}\".format(score[0]))\n",
    "print(\"Test accuracy:{}\".format(score[1]))"
   ]
  },
  {
   "cell_type": "code",
   "execution_count": null,
   "metadata": {
    "colab": {
     "base_uri": "https://localhost:8080/",
     "height": 384
    },
    "colab_type": "code",
    "executionInfo": {
     "elapsed": 24586,
     "status": "error",
     "timestamp": 1583734149271,
     "user": {
      "displayName": "Anunay Vivek Sanganal",
      "photoUrl": "",
      "userId": "10367548046959114765"
     },
     "user_tz": 240
    },
    "id": "ZZpjV-3qvynU",
    "outputId": "a0691e89-19a2-4365-dfa3-546ab5d5c7c8"
   },
   "outputs": [],
   "source": [
    "folder = 'output_model_gru'\n",
    "output = os.path.join(folder, \"sentiment_model.h5\")\n",
    "tf.saved_model.save(model, os.path.join(output, \"1\"))"
   ]
  },
  {
   "cell_type": "code",
   "execution_count": null,
   "metadata": {
    "colab": {
     "base_uri": "https://localhost:8080/",
     "height": 347
    },
    "colab_type": "code",
    "executionInfo": {
     "elapsed": 18716,
     "status": "error",
     "timestamp": 1583734575212,
     "user": {
      "displayName": "Anunay Vivek Sanganal",
      "photoUrl": "",
      "userId": "10367548046959114765"
     },
     "user_tz": 240
    },
    "id": "qjW8Ui5wgt9F",
    "outputId": "239a77ac-5e17-423f-c1b0-08f6ea1edbf9"
   },
   "outputs": [],
   "source": [
    "model.save(os.path.join(output, \"1\"), save_format='tf') "
   ]
  },
  {
   "cell_type": "code",
   "execution_count": 0,
   "metadata": {
    "colab": {},
    "colab_type": "code",
    "id": "fpabhcjC7vXw"
   },
   "outputs": [],
   "source": []
  }
 ],
 "metadata": {
  "accelerator": "GPU",
  "colab": {
   "collapsed_sections": [],
   "machine_shape": "hm",
   "name": "4 epochs_gru.ipynb",
   "provenance": []
  },
  "kernelspec": {
   "display_name": "Python 3",
   "language": "python",
   "name": "python3"
  },
  "language_info": {
   "codemirror_mode": {
    "name": "ipython",
    "version": 3
   },
   "file_extension": ".py",
   "mimetype": "text/x-python",
   "name": "python",
   "nbconvert_exporter": "python",
   "pygments_lexer": "ipython3",
   "version": "3.7.4"
  }
 },
 "nbformat": 4,
 "nbformat_minor": 1
}
