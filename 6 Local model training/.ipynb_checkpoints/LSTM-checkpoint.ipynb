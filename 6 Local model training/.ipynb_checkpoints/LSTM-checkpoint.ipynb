{
 "cells": [
  {
   "cell_type": "code",
   "execution_count": 1,
   "metadata": {
    "colab": {
     "base_uri": "https://localhost:8080/",
     "height": 122
    },
    "colab_type": "code",
    "id": "1YLRO_gO6hgh",
    "outputId": "da89c760-fb8d-40ad-9bb9-ab3463337bd0"
   },
   "outputs": [
    {
     "name": "stdout",
     "output_type": "stream",
     "text": [
      "Go to this URL in a browser: https://accounts.google.com/o/oauth2/auth?client_id=947318989803-6bn6qk8qdgf4n4g3pfee6491hc0brc4i.apps.googleusercontent.com&redirect_uri=urn%3aietf%3awg%3aoauth%3a2.0%3aoob&response_type=code&scope=email%20https%3a%2f%2fwww.googleapis.com%2fauth%2fdocs.test%20https%3a%2f%2fwww.googleapis.com%2fauth%2fdrive%20https%3a%2f%2fwww.googleapis.com%2fauth%2fdrive.photos.readonly%20https%3a%2f%2fwww.googleapis.com%2fauth%2fpeopleapi.readonly\n",
      "\n",
      "Enter your authorization code:\n",
      "··········\n",
      "Mounted at /content/drive\n"
     ]
    }
   ],
   "source": [
    "from google.colab import drive\n",
    "drive.mount('/content/drive')"
   ]
  },
  {
   "cell_type": "code",
   "execution_count": 2,
   "metadata": {
    "colab": {
     "base_uri": "https://localhost:8080/",
     "height": 34
    },
    "colab_type": "code",
    "id": "xnMjT1DF6_zn",
    "outputId": "fa1a1bd5-2729-45da-b94a-2bc5fc62012e"
   },
   "outputs": [
    {
     "name": "stdout",
     "output_type": "stream",
     "text": [
      "/content/drive/My Drive\n"
     ]
    }
   ],
   "source": [
    "cd ./drive/My\\ Drive/"
   ]
  },
  {
   "cell_type": "code",
   "execution_count": 3,
   "metadata": {
    "colab": {
     "base_uri": "https://localhost:8080/",
     "height": 119
    },
    "colab_type": "code",
    "id": "fHfp_e_G4Azp",
    "outputId": "109a0bd1-3301-4fe8-d676-8357ca3b1759"
   },
   "outputs": [
    {
     "name": "stdout",
     "output_type": "stream",
     "text": [
      "`%tensorflow_version` only switches the major version: 1.x or 2.x.\n",
      "You set: `1.4`. This will be interpreted as: `1.x`.\n",
      "\n",
      "\n",
      "TensorFlow 1.x selected.\n"
     ]
    },
    {
     "name": "stderr",
     "output_type": "stream",
     "text": [
      "Using TensorFlow backend.\n"
     ]
    }
   ],
   "source": [
    "# !pip install tensorflow==1.14\n",
    "%tensorflow_version 1.4\n",
    "import os\n",
    "import argparse\n",
    "import model_training.sentiment_dataset as sentiment_dataset\n",
    "import model_training.sentiment_model_cnn as sentiment_model_cnn\n",
    "import model_training.config_holder as config_holder\n",
    "import numpy as np"
   ]
  },
  {
   "cell_type": "code",
   "execution_count": 0,
   "metadata": {
    "colab": {},
    "colab_type": "code",
    "id": "T-C5ajHF4Azw"
   },
   "outputs": [],
   "source": [
    "import tensorflow as tf\n",
    "from tensorflow.keras.preprocessing.text import Tokenizer\n",
    "from tensorflow.keras.preprocessing.sequence import pad_sequences\n",
    "from tensorflow.keras.models import Sequential\n",
    "from tensorflow.keras.layers import Dense\n",
    "from tensorflow.keras.layers import Flatten\n",
    "from tensorflow.keras.layers import Embedding\n",
    "from tensorflow.keras.layers import Conv1D\n",
    "from tensorflow.keras.layers import MaxPooling1D\n",
    "from tensorflow.keras.layers import GlobalMaxPool1D\n",
    "from tensorflow.keras.layers import LSTM\n",
    "from tensorflow.keras.layers import Bidirectional\n",
    "from tensorflow.keras.layers import GRU\n",
    "from tensorflow.keras.layers import Dropout\n",
    "from tensorflow.keras.optimizers import Adam"
   ]
  },
  {
   "cell_type": "code",
   "execution_count": 0,
   "metadata": {
    "colab": {},
    "colab_type": "code",
    "id": "58nISPiE4Az1"
   },
   "outputs": [],
   "source": [
    "args = {'config_file': './model_training/training_config.json',\n",
    "       'num_epoch': 5,\n",
    "       'train': './model_training/data/train/',\n",
    "       'validation': './model_training/data/dev/',\n",
    "       'eval': './model_training/data/eval/'\n",
    "       }"
   ]
  },
  {
   "cell_type": "code",
   "execution_count": 6,
   "metadata": {
    "colab": {
     "base_uri": "https://localhost:8080/",
     "height": 258
    },
    "colab_type": "code",
    "id": "aMgpcnmI4Az5",
    "outputId": "8727394d-14a9-462d-e823-e13b724e83ae",
    "scrolled": false
   },
   "outputs": [
    {
     "name": "stdout",
     "output_type": "stream",
     "text": [
      "Preparing for training...\n",
      "Fetching train data...\n",
      "train\n",
      "WARNING:tensorflow:From /usr/local/lib/python3.6/dist-packages/tensorflow_core/python/data/util/random_seed.py:58: where (from tensorflow.python.ops.array_ops) is deprecated and will be removed in a future version.\n",
      "Instructions for updating:\n",
      "Use tf.where in 2.0, which has the same broadcast rule as np.where\n",
      "WARNING:tensorflow:From /content/drive/My Drive/model_training/sentiment_dataset.py:83: DatasetV1.make_one_shot_iterator (from tensorflow.python.data.ops.dataset_ops) is deprecated and will be removed in a future version.\n",
      "Instructions for updating:\n",
      "Use `for ... in dataset:` to iterate over a dataset. If using `tf.estimator`, return the `Dataset` object directly from your input function. As a last resort, you can use `tf.compat.v1.data.make_one_shot_iterator(dataset)`.\n",
      "Fetching validation data...\n",
      "dev\n",
      "Fetching eval data...\n",
      "eval\n"
     ]
    }
   ],
   "source": [
    "print(\"Preparing for training...\")\n",
    "\n",
    "training_config = config_holder.ConfigHolder(args['config_file']).config\n",
    "\n",
    "training_config[\"num_epoch\"] = args['num_epoch']\n",
    "\n",
    "train_dataset = sentiment_dataset.train_input_fn(args['train'], training_config)\n",
    "validation_dataset = sentiment_dataset.validation_input_fn(args['validation'], training_config)\n",
    "eval_dataset = sentiment_dataset.eval_input_fn(args['eval'], training_config)\n",
    "\n",
    "#train: 1,360,000\n",
    "#dev: 160,000\n",
    "#eval: 80,000\n"
   ]
  },
  {
   "cell_type": "code",
   "execution_count": 7,
   "metadata": {
    "colab": {
     "base_uri": "https://localhost:8080/",
     "height": 34
    },
    "colab_type": "code",
    "id": "ZqDUIRu74A0F",
    "outputId": "c6f5d296-0bed-45aa-ca68-86ed87c5b9b7"
   },
   "outputs": [
    {
     "name": "stdout",
     "output_type": "stream",
     "text": [
      "Loaded 1193515 word vectors.\n"
     ]
    }
   ],
   "source": [
    "embeddings_index = dict()\n",
    "# f = open('model_training/dictionary/glove.twitter.27B.25d.txt', encoding=\"utf-8\")\n",
    "f = open('model_training/dictionary/glove.twitter.27B.200d.txt', encoding=\"utf-8\")\n",
    "for line in f:\n",
    "\tvalues = line.split()\n",
    "\tword = values[0]\n",
    "\tcoefs = np.array(values[1:], dtype='float32')\n",
    "\tembeddings_index[word] = coefs\n",
    "f.close()\n",
    "print('Loaded %s word vectors.' % len(embeddings_index))"
   ]
  },
  {
   "cell_type": "code",
   "execution_count": 0,
   "metadata": {
    "colab": {},
    "colab_type": "code",
    "id": "msaogivX4A0J"
   },
   "outputs": [],
   "source": [
    "vocab_size = len(embeddings_index.keys())"
   ]
  },
  {
   "cell_type": "code",
   "execution_count": 0,
   "metadata": {
    "colab": {},
    "colab_type": "code",
    "id": "mCtNZutj4A0P"
   },
   "outputs": [],
   "source": [
    "n = len(embeddings_index.keys())\n",
    "m = len(embeddings_index['the'])\n",
    "\n",
    "embedding_matrix = np.zeros((n,m))\n",
    "for index, key in zip(range(0, n), embeddings_index.keys()):\n",
    "    embedding_matrix[index] = embeddings_index[key]"
   ]
  },
  {
   "cell_type": "code",
   "execution_count": 10,
   "metadata": {
    "colab": {
     "base_uri": "https://localhost:8080/",
     "height": 34
    },
    "colab_type": "code",
    "id": "OZEMTfEr4A0Y",
    "outputId": "10174a0d-2fe0-4157-e89e-28623e263b1d"
   },
   "outputs": [
    {
     "data": {
      "text/plain": [
       "(1193515, 200)"
      ]
     },
     "execution_count": 10,
     "metadata": {
      "tags": []
     },
     "output_type": "execute_result"
    }
   ],
   "source": [
    "embedding_matrix.shape"
   ]
  },
  {
   "cell_type": "markdown",
   "metadata": {
    "colab_type": "text",
    "id": "DmPo7p-65F-z"
   },
   "source": [
    "##Model4: Stacked LSTM"
   ]
  },
  {
   "cell_type": "code",
   "execution_count": 11,
   "metadata": {
    "colab": {
     "base_uri": "https://localhost:8080/",
     "height": 292
    },
    "colab_type": "code",
    "id": "wp2Nhk685FGK",
    "outputId": "adb429b1-8ce1-470f-a66f-28aca4756bc0"
   },
   "outputs": [
    {
     "name": "stdout",
     "output_type": "stream",
     "text": [
      "WARNING:tensorflow:From /usr/local/lib/python3.6/dist-packages/tensorflow_core/python/keras/initializers.py:119: calling RandomUniform.__init__ (from tensorflow.python.ops.init_ops) with dtype is deprecated and will be removed in a future version.\n",
      "Instructions for updating:\n",
      "Call initializer instance with the dtype argument instead of passing it to the constructor\n",
      "WARNING:tensorflow:From /usr/local/lib/python3.6/dist-packages/tensorflow_core/python/ops/resource_variable_ops.py:1630: calling BaseResourceVariable.__init__ (from tensorflow.python.ops.resource_variable_ops) with constraint is deprecated and will be removed in a future version.\n",
      "Instructions for updating:\n",
      "If using Keras pass *_constraint arguments to layers.\n",
      "WARNING:tensorflow:From /usr/local/lib/python3.6/dist-packages/tensorflow_core/python/ops/init_ops.py:97: calling GlorotUniform.__init__ (from tensorflow.python.ops.init_ops) with dtype is deprecated and will be removed in a future version.\n",
      "Instructions for updating:\n",
      "Call initializer instance with the dtype argument instead of passing it to the constructor\n",
      "WARNING:tensorflow:From /usr/local/lib/python3.6/dist-packages/tensorflow_core/python/ops/init_ops.py:97: calling Orthogonal.__init__ (from tensorflow.python.ops.init_ops) with dtype is deprecated and will be removed in a future version.\n",
      "Instructions for updating:\n",
      "Call initializer instance with the dtype argument instead of passing it to the constructor\n",
      "WARNING:tensorflow:From /usr/local/lib/python3.6/dist-packages/tensorflow_core/python/ops/init_ops.py:97: calling Zeros.__init__ (from tensorflow.python.ops.init_ops) with dtype is deprecated and will be removed in a future version.\n",
      "Instructions for updating:\n",
      "Call initializer instance with the dtype argument instead of passing it to the constructor\n"
     ]
    }
   ],
   "source": [
    "model = Sequential() \n",
    "\n",
    "model.add(Embedding(input_dim = vocab_size, output_dim = 200, weights=[embedding_matrix], input_length=100, trainable=True, name='embedding'))\n",
    "\n",
    "model.add(Bidirectional(LSTM(64, dropout=0.5, recurrent_dropout=0.5, return_sequences= True)))\n",
    "\n",
    "model.add(Bidirectional(LSTM(64, dropout=0.5, recurrent_dropout=0.5)))\n",
    "\n",
    "model.add(Dense(1, activation='sigmoid')) \n",
    "\n",
    "adam = Adam(lr=0.0005)\n",
    "\n",
    "model.compile(optimizer=adam, loss='binary_crossentropy', metrics=['accuracy'])"
   ]
  },
  {
   "cell_type": "code",
   "execution_count": 13,
   "metadata": {
    "colab": {
     "base_uri": "https://localhost:8080/",
     "height": 289
    },
    "colab_type": "code",
    "id": "PQF1Fws-uSpl",
    "outputId": "4016b40a-2f46-4ccf-bfc2-c3d5cb0b5ef8"
   },
   "outputs": [
    {
     "name": "stdout",
     "output_type": "stream",
     "text": [
      "Model: \"sequential\"\n",
      "_________________________________________________________________\n",
      "Layer (type)                 Output Shape              Param #   \n",
      "=================================================================\n",
      "embedding (Embedding)        (None, 100, 200)          238703000 \n",
      "_________________________________________________________________\n",
      "bidirectional (Bidirectional (None, 100, 128)          135680    \n",
      "_________________________________________________________________\n",
      "bidirectional_1 (Bidirection (None, 128)               98816     \n",
      "_________________________________________________________________\n",
      "dense (Dense)                (None, 1)                 129       \n",
      "=================================================================\n",
      "Total params: 238,937,625\n",
      "Trainable params: 238,937,625\n",
      "Non-trainable params: 0\n",
      "_________________________________________________________________\n"
     ]
    }
   ],
   "source": [
    "model.summary()"
   ]
  },
  {
   "cell_type": "code",
   "execution_count": 12,
   "metadata": {
    "colab": {
     "base_uri": "https://localhost:8080/",
     "height": 238
    },
    "colab_type": "code",
    "id": "uaOAnZa0XQYw",
    "outputId": "b1e7732c-a2d9-4e96-904b-fe26328a3ca1"
   },
   "outputs": [
    {
     "name": "stdout",
     "output_type": "stream",
     "text": [
      "Train on 1360 samples, validate on 1000 samples\n",
      "Epoch 1/5\n",
      "1360/1360 [==============================] - 1316s 968ms/step - loss: 0.4941 - acc: 0.7577 - val_loss: 0.4514 - val_acc: 0.7869\n",
      "Epoch 2/5\n",
      "1360/1360 [==============================] - 1264s 929ms/step - loss: 0.4499 - acc: 0.7871 - val_loss: 0.4419 - val_acc: 0.7928\n",
      "Epoch 3/5\n",
      "1360/1360 [==============================] - 1285s 945ms/step - loss: 0.4345 - acc: 0.7966 - val_loss: 0.4390 - val_acc: 0.7941\n",
      "Epoch 4/5\n",
      "1360/1360 [==============================] - 1250s 919ms/step - loss: 0.4233 - acc: 0.8028 - val_loss: 0.4366 - val_acc: 0.7964\n",
      "Epoch 5/5\n",
      "1360/1360 [==============================] - 1291s 949ms/step - loss: 0.4141 - acc: 0.8084 - val_loss: 0.4374 - val_acc: 0.7969\n",
      "Test loss:0.43729878440499304\n",
      "Test accuracy:0.7961750030517578\n"
     ]
    }
   ],
   "source": [
    "model.fit(x = train_dataset[0], \n",
    "          y = train_dataset[1], \n",
    "          steps_per_epoch = train_dataset[2][\"num_batches\"],\n",
    "          epochs = training_config[\"num_epoch\"],\n",
    "          validation_data = (validation_dataset[0]['embedding_input'], validation_dataset[1]),\n",
    "          validation_steps = validation_dataset[2][\"num_batches\"])\n",
    "\n",
    "score = model.evaluate(\n",
    "eval_dataset[0], eval_dataset[1], steps=eval_dataset[2][\"num_batches\"], verbose=0)\n",
    "\n",
    "print(\"Test loss:{}\".format(score[0]))\n",
    "print(\"Test accuracy:{}\".format(score[1]))"
   ]
  },
  {
   "cell_type": "code",
   "execution_count": 14,
   "metadata": {
    "colab": {
     "base_uri": "https://localhost:8080/",
     "height": 51
    },
    "colab_type": "code",
    "id": "0MWoomb4jyv_",
    "outputId": "c4fb5467-bcdc-4d50-ed19-30b891d91d8e"
   },
   "outputs": [
    {
     "name": "stdout",
     "output_type": "stream",
     "text": [
      "Test loss:0.43729878440499304\n",
      "Test accuracy:0.7961750030517578\n"
     ]
    }
   ],
   "source": [
    "score = model.evaluate(\n",
    "eval_dataset[0], eval_dataset[1], steps=eval_dataset[2][\"num_batches\"], verbose=0)\n",
    "\n",
    "print(\"Test loss:{}\".format(score[0]))\n",
    "print(\"Test accuracy:{}\".format(score[1]))"
   ]
  },
  {
   "cell_type": "code",
   "execution_count": 0,
   "metadata": {
    "colab": {},
    "colab_type": "code",
    "id": "qjW8Ui5wgt9F"
   },
   "outputs": [],
   "source": [
    "folder = 'output_model_lstm'\n",
    "output = os.path.join(folder, \"sentiment_model.h5\")\n",
    "tf.saved_model.save(model, os.path.join(output, \"1\"))"
   ]
  },
  {
   "cell_type": "code",
   "execution_count": 0,
   "metadata": {
    "colab": {},
    "colab_type": "code",
    "id": "LI93p3X7mNMn"
   },
   "outputs": [],
   "source": []
  }
 ],
 "metadata": {
  "accelerator": "GPU",
  "colab": {
   "collapsed_sections": [],
   "machine_shape": "hm",
   "name": "5 epochs_lstm.ipynb",
   "provenance": []
  },
  "kernelspec": {
   "display_name": "Python 3",
   "language": "python",
   "name": "python3"
  },
  "language_info": {
   "codemirror_mode": {
    "name": "ipython",
    "version": 3
   },
   "file_extension": ".py",
   "mimetype": "text/x-python",
   "name": "python",
   "nbconvert_exporter": "python",
   "pygments_lexer": "ipython3",
   "version": "3.7.4"
  }
 },
 "nbformat": 4,
 "nbformat_minor": 1
}
