{
 "cells": [
  {
   "cell_type": "code",
   "execution_count": 0,
   "metadata": {
    "colab": {
     "base_uri": "https://localhost:8080/",
     "height": 126
    },
    "colab_type": "code",
    "executionInfo": {
     "elapsed": 15483,
     "status": "ok",
     "timestamp": 1583727556769,
     "user": {
      "displayName": "Harsh Sanjay Mehta",
      "photoUrl": "",
      "userId": "03853245813670289267"
     },
     "user_tz": 240
    },
    "id": "1YLRO_gO6hgh",
    "outputId": "eac826cc-acc0-43bc-a828-e139b49b02a7"
   },
   "outputs": [
    {
     "name": "stdout",
     "output_type": "stream",
     "text": [
      "Go to this URL in a browser: https://accounts.google.com/o/oauth2/auth?client_id=947318989803-6bn6qk8qdgf4n4g3pfee6491hc0brc4i.apps.googleusercontent.com&redirect_uri=urn%3aietf%3awg%3aoauth%3a2.0%3aoob&response_type=code&scope=email%20https%3a%2f%2fwww.googleapis.com%2fauth%2fdocs.test%20https%3a%2f%2fwww.googleapis.com%2fauth%2fdrive%20https%3a%2f%2fwww.googleapis.com%2fauth%2fdrive.photos.readonly%20https%3a%2f%2fwww.googleapis.com%2fauth%2fpeopleapi.readonly\n",
      "\n",
      "Enter your authorization code:\n",
      "··········\n",
      "Mounted at /content/drive\n"
     ]
    }
   ],
   "source": [
    "from google.colab import drive\n",
    "drive.mount('/content/drive')"
   ]
  },
  {
   "cell_type": "code",
   "execution_count": 0,
   "metadata": {
    "colab": {
     "base_uri": "https://localhost:8080/",
     "height": 35
    },
    "colab_type": "code",
    "executionInfo": {
     "elapsed": 623,
     "status": "ok",
     "timestamp": 1583727578617,
     "user": {
      "displayName": "Harsh Sanjay Mehta",
      "photoUrl": "",
      "userId": "03853245813670289267"
     },
     "user_tz": 240
    },
    "id": "xnMjT1DF6_zn",
    "outputId": "178d49c2-28cb-4937-e098-b39df991a03a"
   },
   "outputs": [
    {
     "name": "stdout",
     "output_type": "stream",
     "text": [
      "/content/drive/My Drive\n"
     ]
    }
   ],
   "source": [
    "cd ./drive/My\\ Drive/"
   ]
  },
  {
   "cell_type": "code",
   "execution_count": 0,
   "metadata": {
    "colab": {
     "base_uri": "https://localhost:8080/",
     "height": 124
    },
    "colab_type": "code",
    "executionInfo": {
     "elapsed": 2586,
     "status": "ok",
     "timestamp": 1583727580818,
     "user": {
      "displayName": "Harsh Sanjay Mehta",
      "photoUrl": "",
      "userId": "03853245813670289267"
     },
     "user_tz": 240
    },
    "id": "fHfp_e_G4Azp",
    "outputId": "68cfd004-0205-4980-9a09-4bf292d815cc"
   },
   "outputs": [
    {
     "name": "stdout",
     "output_type": "stream",
     "text": [
      "`%tensorflow_version` only switches the major version: 1.x or 2.x.\n",
      "You set: `1.4`. This will be interpreted as: `1.x`.\n",
      "\n",
      "\n",
      "TensorFlow 1.x selected.\n"
     ]
    },
    {
     "name": "stderr",
     "output_type": "stream",
     "text": [
      "Using TensorFlow backend.\n"
     ]
    }
   ],
   "source": [
    "%tensorflow_version 1.4\n",
    "import os\n",
    "import argparse\n",
    "import model_training.sentiment_dataset as sentiment_dataset\n",
    "import model_training.sentiment_model_cnn as sentiment_model_cnn\n",
    "import model_training.config_holder as config_holder\n",
    "import numpy as np"
   ]
  },
  {
   "cell_type": "code",
   "execution_count": 0,
   "metadata": {
    "colab": {},
    "colab_type": "code",
    "id": "T-C5ajHF4Azw"
   },
   "outputs": [],
   "source": [
    "import tensorflow as tf\n",
    "from tensorflow.keras.preprocessing.text import Tokenizer\n",
    "from tensorflow.keras.preprocessing.sequence import pad_sequences\n",
    "from tensorflow.keras.models import Sequential\n",
    "from tensorflow.keras.layers import Dense\n",
    "from tensorflow.keras.layers import Flatten\n",
    "from tensorflow.keras.layers import Embedding\n",
    "from tensorflow.keras.layers import Conv1D\n",
    "from tensorflow.keras.layers import MaxPooling1D\n",
    "from tensorflow.keras.layers import GlobalMaxPool1D\n",
    "from tensorflow.keras.layers import LSTM\n",
    "from tensorflow.keras.layers import Bidirectional\n",
    "from tensorflow.keras.layers import GRU\n",
    "from tensorflow.keras.layers import Dropout\n",
    "from tensorflow.keras.optimizers import Adam"
   ]
  },
  {
   "cell_type": "code",
   "execution_count": 0,
   "metadata": {
    "colab": {},
    "colab_type": "code",
    "id": "58nISPiE4Az1"
   },
   "outputs": [],
   "source": [
    "args = {'config_file': './model_training/training_config.json',\n",
    "       'num_epoch': 3,\n",
    "       'train': './model_training/data/train/',\n",
    "       'validation': './model_training/data/dev/',\n",
    "       'eval': './model_training/data/eval/'\n",
    "       }"
   ]
  },
  {
   "cell_type": "code",
   "execution_count": 0,
   "metadata": {
    "colab": {
     "base_uri": "https://localhost:8080/",
     "height": 268
    },
    "colab_type": "code",
    "executionInfo": {
     "elapsed": 1033661,
     "status": "ok",
     "timestamp": 1583728615514,
     "user": {
      "displayName": "Harsh Sanjay Mehta",
      "photoUrl": "",
      "userId": "03853245813670289267"
     },
     "user_tz": 240
    },
    "id": "aMgpcnmI4Az5",
    "outputId": "0bfc442e-1fd6-4fae-e6f7-b1b83e2970d2",
    "scrolled": false
   },
   "outputs": [
    {
     "name": "stdout",
     "output_type": "stream",
     "text": [
      "Preparing for training...\n",
      "Fetching train data...\n",
      "train\n",
      "WARNING:tensorflow:From /usr/local/lib/python3.6/dist-packages/tensorflow_core/python/data/util/random_seed.py:58: where (from tensorflow.python.ops.array_ops) is deprecated and will be removed in a future version.\n",
      "Instructions for updating:\n",
      "Use tf.where in 2.0, which has the same broadcast rule as np.where\n",
      "WARNING:tensorflow:From /content/drive/My Drive/model_training/sentiment_dataset.py:83: DatasetV1.make_one_shot_iterator (from tensorflow.python.data.ops.dataset_ops) is deprecated and will be removed in a future version.\n",
      "Instructions for updating:\n",
      "Use `for ... in dataset:` to iterate over a dataset. If using `tf.estimator`, return the `Dataset` object directly from your input function. As a last resort, you can use `tf.compat.v1.data.make_one_shot_iterator(dataset)`.\n",
      "Fetching validation data...\n",
      "dev\n",
      "Fetching eval data...\n",
      "eval\n"
     ]
    }
   ],
   "source": [
    "print(\"Preparing for training...\")\n",
    "\n",
    "training_config = config_holder.ConfigHolder(args['config_file']).config\n",
    "\n",
    "training_config[\"num_epoch\"] = args['num_epoch']\n",
    "\n",
    "train_dataset = sentiment_dataset.train_input_fn(args['train'], training_config)\n",
    "validation_dataset = sentiment_dataset.validation_input_fn(args['validation'], training_config)\n",
    "eval_dataset = sentiment_dataset.eval_input_fn(args['eval'], training_config)\n",
    "\n",
    "#train: 1,360,000\n",
    "#dev: 160,000\n",
    "#eval: 80,000\n"
   ]
  },
  {
   "cell_type": "code",
   "execution_count": 0,
   "metadata": {
    "colab": {
     "base_uri": "https://localhost:8080/",
     "height": 35
    },
    "colab_type": "code",
    "executionInfo": {
     "elapsed": 70867,
     "status": "ok",
     "timestamp": 1583728742396,
     "user": {
      "displayName": "Harsh Sanjay Mehta",
      "photoUrl": "",
      "userId": "03853245813670289267"
     },
     "user_tz": 240
    },
    "id": "ZqDUIRu74A0F",
    "outputId": "e6e7c556-6244-4826-ea89-2d62e0e07d1e"
   },
   "outputs": [
    {
     "name": "stdout",
     "output_type": "stream",
     "text": [
      "Loaded 1193515 word vectors.\n"
     ]
    }
   ],
   "source": [
    "embeddings_index = dict()\n",
    "f = open('model_training/dictionary/glove.twitter.27B.200d.txt', encoding=\"utf-8\")\n",
    "for line in f:\n",
    "\tvalues = line.split()\n",
    "\tword = values[0]\n",
    "\tcoefs = np.array(values[1:], dtype='float32')\n",
    "\tembeddings_index[word] = coefs\n",
    "f.close()\n",
    "print('Loaded %s word vectors.' % len(embeddings_index))"
   ]
  },
  {
   "cell_type": "code",
   "execution_count": 0,
   "metadata": {
    "colab": {},
    "colab_type": "code",
    "id": "msaogivX4A0J"
   },
   "outputs": [],
   "source": [
    "vocab_size = len(embeddings_index.keys())"
   ]
  },
  {
   "cell_type": "code",
   "execution_count": 0,
   "metadata": {
    "colab": {},
    "colab_type": "code",
    "id": "mCtNZutj4A0P"
   },
   "outputs": [],
   "source": [
    "n = len(embeddings_index.keys())\n",
    "m = len(embeddings_index['the'])\n",
    "\n",
    "embedding_matrix = np.zeros((n,m))\n",
    "for index, key in zip(range(0, n), embeddings_index.keys()):\n",
    "    embedding_matrix[index] = embeddings_index[key]"
   ]
  },
  {
   "cell_type": "code",
   "execution_count": 0,
   "metadata": {
    "colab": {
     "base_uri": "https://localhost:8080/",
     "height": 35
    },
    "colab_type": "code",
    "executionInfo": {
     "elapsed": 71392,
     "status": "ok",
     "timestamp": 1583728744248,
     "user": {
      "displayName": "Harsh Sanjay Mehta",
      "photoUrl": "",
      "userId": "03853245813670289267"
     },
     "user_tz": 240
    },
    "id": "OZEMTfEr4A0Y",
    "outputId": "9f766340-57ad-4bfb-8207-47684353e8ea"
   },
   "outputs": [
    {
     "data": {
      "text/plain": [
       "(1193515, 200)"
      ]
     },
     "execution_count": 10,
     "metadata": {
      "tags": []
     },
     "output_type": "execute_result"
    }
   ],
   "source": [
    "embedding_matrix.shape"
   ]
  },
  {
   "cell_type": "markdown",
   "metadata": {
    "colab_type": "text",
    "id": "ngMCGwWY2N1z"
   },
   "source": [
    "##Model0: Simple NN"
   ]
  },
  {
   "cell_type": "code",
   "execution_count": 0,
   "metadata": {
    "colab": {
     "base_uri": "https://localhost:8080/",
     "height": 144
    },
    "colab_type": "code",
    "executionInfo": {
     "elapsed": 14905,
     "status": "ok",
     "timestamp": 1583729294307,
     "user": {
      "displayName": "Harsh Sanjay Mehta",
      "photoUrl": "",
      "userId": "03853245813670289267"
     },
     "user_tz": 240
    },
    "id": "Jz8AII6N2Qlx",
    "outputId": "0a914c5c-f52d-4516-98af-6a9029659f65"
   },
   "outputs": [
    {
     "name": "stdout",
     "output_type": "stream",
     "text": [
      "WARNING:tensorflow:From /usr/local/lib/python3.6/dist-packages/tensorflow_core/python/keras/initializers.py:119: calling RandomUniform.__init__ (from tensorflow.python.ops.init_ops) with dtype is deprecated and will be removed in a future version.\n",
      "Instructions for updating:\n",
      "Call initializer instance with the dtype argument instead of passing it to the constructor\n",
      "WARNING:tensorflow:From /usr/local/lib/python3.6/dist-packages/tensorflow_core/python/ops/resource_variable_ops.py:1630: calling BaseResourceVariable.__init__ (from tensorflow.python.ops.resource_variable_ops) with constraint is deprecated and will be removed in a future version.\n",
      "Instructions for updating:\n",
      "If using Keras pass *_constraint arguments to layers.\n"
     ]
    }
   ],
   "source": [
    "model = Sequential()\n",
    "\n",
    "model.add(Embedding(input_dim = vocab_size, output_dim = 200, weights=[embedding_matrix], input_length=100, trainable=True, name='embedding'))\n",
    "\n",
    "model.add(Flatten())\n",
    "\n",
    "model.add(Dense(256, activation='relu'))\n",
    "\n",
    "model.add(Dropout(0.5))\n",
    "\n",
    "model.add(Dense(128, activation='tanh'))\n",
    "\n",
    "model.add(Dropout(0.5))\n",
    "\n",
    "model.add(Dense(64, activation='relu'))\n",
    "\n",
    "model.add(Dropout(0.5))\n",
    "\n",
    "model.add(Dense(32, activation='tanh'))\n",
    "\n",
    "model.add(Dropout(0.2))\n",
    "\n",
    "model.add(Dense(1, activation='sigmoid'))\n",
    "\n",
    "adam = Adam(lr=0.0005)\n",
    "\n",
    "model.compile(optimizer=adam, loss='binary_crossentropy', metrics=['accuracy'])"
   ]
  },
  {
   "cell_type": "code",
   "execution_count": 0,
   "metadata": {
    "colab": {
     "base_uri": "https://localhost:8080/",
     "height": 550
    },
    "colab_type": "code",
    "executionInfo": {
     "elapsed": 14604,
     "status": "ok",
     "timestamp": 1583729294311,
     "user": {
      "displayName": "Harsh Sanjay Mehta",
      "photoUrl": "",
      "userId": "03853245813670289267"
     },
     "user_tz": 240
    },
    "id": "b_UFmvyh0056",
    "outputId": "0c793e26-e34b-416a-9089-5a19d3974e18"
   },
   "outputs": [
    {
     "name": "stdout",
     "output_type": "stream",
     "text": [
      "Model: \"sequential\"\n",
      "_________________________________________________________________\n",
      "Layer (type)                 Output Shape              Param #   \n",
      "=================================================================\n",
      "embedding (Embedding)        (None, 100, 200)          238703000 \n",
      "_________________________________________________________________\n",
      "flatten (Flatten)            (None, 20000)             0         \n",
      "_________________________________________________________________\n",
      "dense (Dense)                (None, 256)               5120256   \n",
      "_________________________________________________________________\n",
      "dropout (Dropout)            (None, 256)               0         \n",
      "_________________________________________________________________\n",
      "dense_1 (Dense)              (None, 128)               32896     \n",
      "_________________________________________________________________\n",
      "dropout_1 (Dropout)          (None, 128)               0         \n",
      "_________________________________________________________________\n",
      "dense_2 (Dense)              (None, 64)                8256      \n",
      "_________________________________________________________________\n",
      "dropout_2 (Dropout)          (None, 64)                0         \n",
      "_________________________________________________________________\n",
      "dense_3 (Dense)              (None, 32)                2080      \n",
      "_________________________________________________________________\n",
      "dropout_3 (Dropout)          (None, 32)                0         \n",
      "_________________________________________________________________\n",
      "dense_4 (Dense)              (None, 1)                 33        \n",
      "=================================================================\n",
      "Total params: 243,866,521\n",
      "Trainable params: 243,866,521\n",
      "Non-trainable params: 0\n",
      "_________________________________________________________________\n"
     ]
    }
   ],
   "source": [
    "model.summary()"
   ]
  },
  {
   "cell_type": "code",
   "execution_count": 0,
   "metadata": {
    "colab": {
     "base_uri": "https://localhost:8080/",
     "height": 177
    },
    "colab_type": "code",
    "executionInfo": {
     "elapsed": 944033,
     "status": "ok",
     "timestamp": 1583730225205,
     "user": {
      "displayName": "Harsh Sanjay Mehta",
      "photoUrl": "",
      "userId": "03853245813670289267"
     },
     "user_tz": 240
    },
    "id": "uaOAnZa0XQYw",
    "outputId": "87f3b747-0fb0-40b0-9a5d-c23b155005ec"
   },
   "outputs": [
    {
     "name": "stdout",
     "output_type": "stream",
     "text": [
      "Train on 1360 samples, validate on 1000 samples\n",
      "Epoch 1/3\n",
      "1360/1360 [==============================] - 316s 232ms/step - loss: 0.4979 - acc: 0.7587 - val_loss: 0.4585 - val_acc: 0.7836\n",
      "Epoch 2/3\n",
      "1360/1360 [==============================] - 299s 220ms/step - loss: 0.4545 - acc: 0.7880 - val_loss: 0.4545 - val_acc: 0.7865\n",
      "Epoch 3/3\n",
      "1360/1360 [==============================] - 299s 220ms/step - loss: 0.4369 - acc: 0.7982 - val_loss: 0.4518 - val_acc: 0.7885\n",
      "Test loss:0.45280549079179766\n",
      "Test accuracy:0.7864999771118164\n"
     ]
    }
   ],
   "source": [
    "model.fit(x = train_dataset[0], \n",
    "          y = train_dataset[1], \n",
    "          steps_per_epoch = train_dataset[2][\"num_batches\"],\n",
    "          epochs = training_config[\"num_epoch\"],\n",
    "          validation_data = (validation_dataset[0]['embedding_input'], validation_dataset[1]),\n",
    "          validation_steps = validation_dataset[2][\"num_batches\"])\n",
    "\n",
    "score = model.evaluate(\n",
    "eval_dataset[0], eval_dataset[1], steps=eval_dataset[2][\"num_batches\"], verbose=0)\n",
    "\n",
    "print(\"Test loss:{}\".format(score[0]))\n",
    "print(\"Test accuracy:{}\".format(score[1]))\n",
    "\n",
    "# sentiment_model_cnn.save_model(model, os.path.join(args.model_output_dir, \"sentiment_model.h5\"))"
   ]
  },
  {
   "cell_type": "code",
   "execution_count": 0,
   "metadata": {
    "colab": {
     "base_uri": "https://localhost:8080/",
     "height": 52
    },
    "colab_type": "code",
    "executionInfo": {
     "elapsed": 6197,
     "status": "ok",
     "timestamp": 1583730248199,
     "user": {
      "displayName": "Harsh Sanjay Mehta",
      "photoUrl": "",
      "userId": "03853245813670289267"
     },
     "user_tz": 240
    },
    "id": "0MWoomb4jyv_",
    "outputId": "c2724cd6-b27e-43c9-cff1-84af41e02bcd"
   },
   "outputs": [
    {
     "name": "stdout",
     "output_type": "stream",
     "text": [
      "Test loss:0.45280549079179766\n",
      "Test accuracy:0.7864999771118164\n"
     ]
    }
   ],
   "source": [
    "score = model.evaluate(\n",
    "eval_dataset[0], eval_dataset[1], steps=eval_dataset[2][\"num_batches\"], verbose=0)\n",
    "\n",
    "print(\"Test loss:{}\".format(score[0]))\n",
    "print(\"Test accuracy:{}\".format(score[1]))"
   ]
  },
  {
   "cell_type": "code",
   "execution_count": 0,
   "metadata": {
    "colab": {
     "base_uri": "https://localhost:8080/",
     "height": 35
    },
    "colab_type": "code",
    "executionInfo": {
     "elapsed": 65898,
     "status": "ok",
     "timestamp": 1583730308339,
     "user": {
      "displayName": "Harsh Sanjay Mehta",
      "photoUrl": "",
      "userId": "03853245813670289267"
     },
     "user_tz": 240
    },
    "id": "qjW8Ui5wgt9F",
    "outputId": "aea91b6a-846f-4fce-b610-58c904bf80ba"
   },
   "outputs": [
    {
     "name": "stdout",
     "output_type": "stream",
     "text": [
      "INFO:tensorflow:Assets written to: output_model_dense/sentiment_model.h5/1/assets\n"
     ]
    }
   ],
   "source": [
    "folder = 'output_model_dense'\n",
    "output = os.path.join(folder, \"sentiment_model.h5\")\n",
    "tf.saved_model.save(model, os.path.join(output, \"1\"))"
   ]
  },
  {
   "cell_type": "code",
   "execution_count": 0,
   "metadata": {
    "colab": {},
    "colab_type": "code",
    "id": "Ad6GlSe1rbLB"
   },
   "outputs": [],
   "source": []
  }
 ],
 "metadata": {
  "accelerator": "GPU",
  "colab": {
   "collapsed_sections": [],
   "machine_shape": "hm",
   "name": "3 epochs dense.ipynb",
   "provenance": [
    {
     "file_id": "1cd9Hc_GvRBOhem4r4HtJ3pi26qnWvF05",
     "timestamp": 1583712078893
    }
   ]
  },
  "kernelspec": {
   "display_name": "Python 3",
   "language": "python",
   "name": "python3"
  },
  "language_info": {
   "codemirror_mode": {
    "name": "ipython",
    "version": 3
   },
   "file_extension": ".py",
   "mimetype": "text/x-python",
   "name": "python",
   "nbconvert_exporter": "python",
   "pygments_lexer": "ipython3",
   "version": "3.7.4"
  }
 },
 "nbformat": 4,
 "nbformat_minor": 1
}
